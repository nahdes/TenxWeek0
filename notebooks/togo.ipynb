{
 "cells": [
  {
   "cell_type": "markdown",
   "metadata": {},
   "source": [
    "Initializes libraries (pandas, numpy, matplotlib, and seaborn)\n"
   ]
  },
  {
   "cell_type": "code",
   "execution_count": 1,
   "metadata": {},
   "outputs": [],
   "source": [
    "import pandas as pd\n",
    "import numpy as np\n",
    "import matplotlib.pyplot as plt \n",
    "import seaborn as sns \n",
    "from sklearn import metrics\n",
    "plt.style.use('ggplot')\n",
    "pd.set_option('display.max_columns', 200)\n",
    "from scipy import stats"
   ]
  },
  {
   "cell_type": "markdown",
   "metadata": {},
   "source": [
    "Loads data from a GitHub URL."
   ]
  },
  {
   "cell_type": "code",
   "execution_count": 2,
   "metadata": {},
   "outputs": [],
   "source": [
    "url='https://raw.githubusercontent.com/nahdes/TenxWeek0/refs/heads/main/notebooks/togo-dapaong_qc.csv'\n",
    "data_frame = pd.read_csv(url)"
   ]
  },
  {
   "cell_type": "markdown",
   "metadata": {},
   "source": [
    "Displaying  the shape of the dataset"
   ]
  },
  {
   "cell_type": "code",
   "execution_count": 3,
   "metadata": {},
   "outputs": [
    {
     "data": {
      "text/plain": [
       "(525600, 19)"
      ]
     },
     "execution_count": 3,
     "metadata": {},
     "output_type": "execute_result"
    }
   ],
   "source": [
    "data_frame.shape\n"
   ]
  },
  {
   "cell_type": "markdown",
   "metadata": {},
   "source": [
    "Displays the first few rows of the dataset.\n",
    "\n"
   ]
  },
  {
   "cell_type": "code",
   "execution_count": 4,
   "metadata": {},
   "outputs": [
    {
     "data": {
      "text/plain": [
       "<bound method NDFrame.head of                Timestamp  GHI  DNI  DHI  ModA  ModB  Tamb    RH   WS  WSgust  \\\n",
       "0       2021-10-25 00:01 -1.3  0.0  0.0   0.0   0.0  24.8  94.5  0.9     1.1   \n",
       "1       2021-10-25 00:02 -1.3  0.0  0.0   0.0   0.0  24.8  94.4  1.1     1.6   \n",
       "2       2021-10-25 00:03 -1.3  0.0  0.0   0.0   0.0  24.8  94.4  1.2     1.4   \n",
       "3       2021-10-25 00:04 -1.2  0.0  0.0   0.0   0.0  24.8  94.3  1.2     1.6   \n",
       "4       2021-10-25 00:05 -1.2  0.0  0.0   0.0   0.0  24.8  94.0  1.3     1.6   \n",
       "...                  ...  ...  ...  ...   ...   ...   ...   ...  ...     ...   \n",
       "525595  2022-10-24 23:56 -0.8  0.0  0.0   0.0   0.0  25.2  53.8  0.0     0.0   \n",
       "525596  2022-10-24 23:57 -0.9  0.0  0.0   0.0   0.0  25.3  53.5  0.0     0.0   \n",
       "525597  2022-10-24 23:58 -1.0  0.0  0.0   0.0   0.0  25.3  53.4  0.0     0.0   \n",
       "525598  2022-10-24 23:59 -1.1  0.0  0.0   0.0   0.0  25.4  53.5  0.0     0.0   \n",
       "525599  2022-10-25 00:00 -1.2  0.0  0.0   0.0   0.0  25.4  52.3  0.0     0.0   \n",
       "\n",
       "        WSstdev     WD  WDstdev   BP  Cleaning  Precipitation  TModA  TModB  \\\n",
       "0           0.4  227.6      1.1  977         0            0.0   24.7   24.4   \n",
       "1           0.4  229.3      0.7  977         0            0.0   24.7   24.4   \n",
       "2           0.3  228.5      2.9  977         0            0.0   24.7   24.4   \n",
       "3           0.3  229.1      4.6  977         0            0.0   24.7   24.4   \n",
       "4           0.4  227.5      1.6  977         0            0.0   24.7   24.4   \n",
       "...         ...    ...      ...  ...       ...            ...    ...    ...   \n",
       "525595      0.0    0.0      0.0  977         0            0.0   24.3   24.0   \n",
       "525596      0.0    0.0      0.0  977         0            0.0   24.3   24.0   \n",
       "525597      0.0    0.0      0.0  977         0            0.0   24.2   23.9   \n",
       "525598      0.0    0.0      0.0  977         0            0.0   24.1   23.8   \n",
       "525599      0.0    0.0      0.0  977         0            0.0   24.1   23.8   \n",
       "\n",
       "        Comments  \n",
       "0            NaN  \n",
       "1            NaN  \n",
       "2            NaN  \n",
       "3            NaN  \n",
       "4            NaN  \n",
       "...          ...  \n",
       "525595       NaN  \n",
       "525596       NaN  \n",
       "525597       NaN  \n",
       "525598       NaN  \n",
       "525599       NaN  \n",
       "\n",
       "[525600 rows x 19 columns]>"
      ]
     },
     "execution_count": 4,
     "metadata": {},
     "output_type": "execute_result"
    }
   ],
   "source": [
    "data_frame.head\n"
   ]
  },
  {
   "cell_type": "markdown",
   "metadata": {},
   "source": [
    "Displays the data types of the columns"
   ]
  },
  {
   "cell_type": "code",
   "execution_count": 5,
   "metadata": {},
   "outputs": [
    {
     "data": {
      "text/plain": [
       "Timestamp         object\n",
       "GHI              float64\n",
       "DNI              float64\n",
       "DHI              float64\n",
       "ModA             float64\n",
       "ModB             float64\n",
       "Tamb             float64\n",
       "RH               float64\n",
       "WS               float64\n",
       "WSgust           float64\n",
       "WSstdev          float64\n",
       "WD               float64\n",
       "WDstdev          float64\n",
       "BP                 int64\n",
       "Cleaning           int64\n",
       "Precipitation    float64\n",
       "TModA            float64\n",
       "TModB            float64\n",
       "Comments         float64\n",
       "dtype: object"
      ]
     },
     "execution_count": 5,
     "metadata": {},
     "output_type": "execute_result"
    }
   ],
   "source": [
    "data_frame.dtypes"
   ]
  },
  {
   "cell_type": "markdown",
   "metadata": {},
   "source": [
    "Listing  all column names."
   ]
  },
  {
   "cell_type": "code",
   "execution_count": 6,
   "metadata": {},
   "outputs": [
    {
     "data": {
      "text/plain": [
       "Index(['Timestamp', 'GHI', 'DNI', 'DHI', 'ModA', 'ModB', 'Tamb', 'RH', 'WS',\n",
       "       'WSgust', 'WSstdev', 'WD', 'WDstdev', 'BP', 'Cleaning', 'Precipitation',\n",
       "       'TModA', 'TModB', 'Comments'],\n",
       "      dtype='object')"
      ]
     },
     "execution_count": 6,
     "metadata": {},
     "output_type": "execute_result"
    }
   ],
   "source": [
    "data_frame.columns"
   ]
  },
  {
   "cell_type": "markdown",
   "metadata": {},
   "source": [
    "Computes summary statistics for numeric columns"
   ]
  },
  {
   "cell_type": "code",
   "execution_count": 7,
   "metadata": {},
   "outputs": [
    {
     "name": "stdout",
     "output_type": "stream",
     "text": [
      "                 GHI            DNI            DHI           ModA  \\\n",
      "count  525600.000000  525600.000000  525600.000000  525600.000000   \n",
      "mean      230.555040     151.258469     116.444352     226.144375   \n",
      "std       322.532347     250.956962     156.520714     317.346938   \n",
      "min       -12.700000       0.000000       0.000000       0.000000   \n",
      "25%        -2.200000       0.000000       0.000000       0.000000   \n",
      "50%         2.100000       0.000000       2.500000       4.400000   \n",
      "75%       442.400000     246.400000     215.700000     422.525000   \n",
      "max      1424.000000    1004.500000     805.700000    1380.000000   \n",
      "\n",
      "                ModB           Tamb             RH             WS  \\\n",
      "count  525600.000000  525600.000000  525600.000000  525600.000000   \n",
      "mean      219.568588      27.751788      55.013160       2.368093   \n",
      "std       307.932510       4.758023      28.778732       1.462668   \n",
      "min         0.000000      14.900000       3.300000       0.000000   \n",
      "25%         0.000000      24.200000      26.500000       1.400000   \n",
      "50%         4.300000      27.200000      59.300000       2.200000   \n",
      "75%       411.000000      31.100000      80.800000       3.200000   \n",
      "max      1367.000000      41.400000      99.800000      16.100000   \n",
      "\n",
      "              WSgust        WSstdev             WD        WDstdev  \\\n",
      "count  525600.000000  525600.000000  525600.000000  525600.000000   \n",
      "mean        3.229490       0.557740     161.741845      10.559568   \n",
      "std         1.882565       0.268923      91.877217       5.915490   \n",
      "min         0.000000       0.000000       0.000000       0.000000   \n",
      "25%         1.900000       0.400000      74.800000       6.900000   \n",
      "50%         2.900000       0.500000     199.100000      10.800000   \n",
      "75%         4.400000       0.700000     233.500000      14.100000   \n",
      "max        23.100000       4.700000     360.000000      86.900000   \n",
      "\n",
      "                  BP       Cleaning  Precipitation          TModA  \\\n",
      "count  525600.000000  525600.000000  525600.000000  525600.000000   \n",
      "mean      975.915242       0.000535       0.001382      32.444403   \n",
      "std         2.153977       0.023116       0.026350      10.998334   \n",
      "min       968.000000       0.000000       0.000000      13.100000   \n",
      "25%       975.000000       0.000000       0.000000      23.900000   \n",
      "50%       976.000000       0.000000       0.000000      28.400000   \n",
      "75%       977.000000       0.000000       0.000000      40.600000   \n",
      "max       983.000000       1.000000       2.300000      70.400000   \n",
      "\n",
      "               TModB  Comments  \n",
      "count  525600.000000       0.0  \n",
      "mean       33.543330       NaN  \n",
      "std        12.769277       NaN  \n",
      "min        13.100000       NaN  \n",
      "25%        23.600000       NaN  \n",
      "50%        28.400000       NaN  \n",
      "75%        43.000000       NaN  \n",
      "max        94.600000       NaN  \n"
     ]
    }
   ],
   "source": [
    "summary_stats = data_frame.describe()  # Summary of all numeric columns\n",
    "print(summary_stats)"
   ]
  },
  {
   "cell_type": "markdown",
   "metadata": {},
   "source": [
    "Filters numeric data columns."
   ]
  },
  {
   "cell_type": "code",
   "execution_count": 8,
   "metadata": {},
   "outputs": [
    {
     "name": "stdout",
     "output_type": "stream",
     "text": [
      "Median Values:\n",
      " GHI                2.1\n",
      "DNI                0.0\n",
      "DHI                2.5\n",
      "ModA               4.4\n",
      "ModB               4.3\n",
      "Tamb              27.2\n",
      "RH                59.3\n",
      "WS                 2.2\n",
      "WSgust             2.9\n",
      "WSstdev            0.5\n",
      "WD               199.1\n",
      "WDstdev           10.8\n",
      "BP               976.0\n",
      "Cleaning           0.0\n",
      "Precipitation      0.0\n",
      "TModA             28.4\n",
      "TModB             28.4\n",
      "Comments           NaN\n",
      "dtype: float64\n"
     ]
    }
   ],
   "source": [
    "# Select only numeric columns\n",
    "numeric_data = data_frame.select_dtypes(include=['number'])\n",
    "\n",
    "# Calculate median\n",
    "median_values = numeric_data.median()\n",
    "print(\"Median Values:\\n\", median_values)"
   ]
  },
  {
   "cell_type": "markdown",
   "metadata": {},
   "source": [
    "Selects specific columns for further analysis"
   ]
  },
  {
   "cell_type": "code",
   "execution_count": 9,
   "metadata": {},
   "outputs": [],
   "source": [
    "df = data_frame[['Timestamp', 'GHI', 'DNI', 'DHI',\n",
    "            'ModA', 'ModB', \n",
    "            'Tamb', 'RH', 'WS', 'WSgust', 'WSstdev','Cleaning','WD',\n",
    "            #'WDstdev', 'BP', 'Comments',\n",
    "            'Precipitation','TModA', 'TModB',]].copy()"
   ]
  },
  {
   "cell_type": "markdown",
   "metadata": {},
   "source": [
    "Displays selected column names."
   ]
  },
  {
   "cell_type": "code",
   "execution_count": 10,
   "metadata": {},
   "outputs": [
    {
     "data": {
      "text/plain": [
       "Index(['Timestamp', 'GHI', 'DNI', 'DHI', 'ModA', 'ModB', 'Tamb', 'RH', 'WS',\n",
       "       'WSgust', 'WSstdev', 'Cleaning', 'WD', 'Precipitation', 'TModA',\n",
       "       'TModB'],\n",
       "      dtype='object')"
      ]
     },
     "execution_count": 10,
     "metadata": {},
     "output_type": "execute_result"
    }
   ],
   "source": [
    "df.columns"
   ]
  }
 ],
 "metadata": {
  "kernelspec": {
   "display_name": ".venev",
   "language": "python",
   "name": "python3"
  },
  "language_info": {
   "codemirror_mode": {
    "name": "ipython",
    "version": 3
   },
   "file_extension": ".py",
   "mimetype": "text/x-python",
   "name": "python",
   "nbconvert_exporter": "python",
   "pygments_lexer": "ipython3",
   "version": "3.13.1"
  }
 },
 "nbformat": 4,
 "nbformat_minor": 2
}
