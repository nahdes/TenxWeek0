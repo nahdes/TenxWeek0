{
 "cells": [
  {
   "cell_type": "markdown",
   "metadata": {},
   "source": [
    "Initializes libraries (pandas, numpy, matplotlib, and seaborn)\n"
   ]
  },
  {
   "cell_type": "code",
   "execution_count": 1,
   "metadata": {},
   "outputs": [],
   "source": [
    "import pandas as pd\n",
    "import numpy as np\n",
    "import matplotlib.pyplot as plt \n",
    "import seaborn as sns \n",
    "from sklearn import metrics\n",
    "plt.style.use('ggplot')\n",
    "pd.set_option('display.max_columns', 200)\n",
    "from scipy import stats"
   ]
  },
  {
   "cell_type": "markdown",
   "metadata": {},
   "source": [
    "Loads data from a GitHub URL."
   ]
  },
  {
   "cell_type": "code",
   "execution_count": 2,
   "metadata": {},
   "outputs": [],
   "source": [
    "url='https://raw.githubusercontent.com/nahdes/TenxWeek0/refs/heads/main/notebooks/togo-dapaong_qc.csv'\n",
    "data_frame = pd.read_csv(url)"
   ]
  },
  {
   "cell_type": "markdown",
   "metadata": {},
   "source": [
    "Displaying  the shape of the dataset"
   ]
  },
  {
   "cell_type": "code",
   "execution_count": 3,
   "metadata": {},
   "outputs": [
    {
     "data": {
      "text/plain": [
       "(525600, 19)"
      ]
     },
     "execution_count": 3,
     "metadata": {},
     "output_type": "execute_result"
    }
   ],
   "source": [
    "data_frame.shape\n"
   ]
  },
  {
   "cell_type": "markdown",
   "metadata": {},
   "source": [
    "Displays the first few rows of the dataset.\n",
    "\n"
   ]
  },
  {
   "cell_type": "code",
   "execution_count": 4,
   "metadata": {},
   "outputs": [
    {
     "data": {
      "text/plain": [
       "<bound method NDFrame.head of                Timestamp  GHI  DNI  DHI  ModA  ModB  Tamb    RH   WS  WSgust  \\\n",
       "0       2021-10-25 00:01 -1.3  0.0  0.0   0.0   0.0  24.8  94.5  0.9     1.1   \n",
       "1       2021-10-25 00:02 -1.3  0.0  0.0   0.0   0.0  24.8  94.4  1.1     1.6   \n",
       "2       2021-10-25 00:03 -1.3  0.0  0.0   0.0   0.0  24.8  94.4  1.2     1.4   \n",
       "3       2021-10-25 00:04 -1.2  0.0  0.0   0.0   0.0  24.8  94.3  1.2     1.6   \n",
       "4       2021-10-25 00:05 -1.2  0.0  0.0   0.0   0.0  24.8  94.0  1.3     1.6   \n",
       "...                  ...  ...  ...  ...   ...   ...   ...   ...  ...     ...   \n",
       "525595  2022-10-24 23:56 -0.8  0.0  0.0   0.0   0.0  25.2  53.8  0.0     0.0   \n",
       "525596  2022-10-24 23:57 -0.9  0.0  0.0   0.0   0.0  25.3  53.5  0.0     0.0   \n",
       "525597  2022-10-24 23:58 -1.0  0.0  0.0   0.0   0.0  25.3  53.4  0.0     0.0   \n",
       "525598  2022-10-24 23:59 -1.1  0.0  0.0   0.0   0.0  25.4  53.5  0.0     0.0   \n",
       "525599  2022-10-25 00:00 -1.2  0.0  0.0   0.0   0.0  25.4  52.3  0.0     0.0   \n",
       "\n",
       "        WSstdev     WD  WDstdev   BP  Cleaning  Precipitation  TModA  TModB  \\\n",
       "0           0.4  227.6      1.1  977         0            0.0   24.7   24.4   \n",
       "1           0.4  229.3      0.7  977         0            0.0   24.7   24.4   \n",
       "2           0.3  228.5      2.9  977         0            0.0   24.7   24.4   \n",
       "3           0.3  229.1      4.6  977         0            0.0   24.7   24.4   \n",
       "4           0.4  227.5      1.6  977         0            0.0   24.7   24.4   \n",
       "...         ...    ...      ...  ...       ...            ...    ...    ...   \n",
       "525595      0.0    0.0      0.0  977         0            0.0   24.3   24.0   \n",
       "525596      0.0    0.0      0.0  977         0            0.0   24.3   24.0   \n",
       "525597      0.0    0.0      0.0  977         0            0.0   24.2   23.9   \n",
       "525598      0.0    0.0      0.0  977         0            0.0   24.1   23.8   \n",
       "525599      0.0    0.0      0.0  977         0            0.0   24.1   23.8   \n",
       "\n",
       "        Comments  \n",
       "0            NaN  \n",
       "1            NaN  \n",
       "2            NaN  \n",
       "3            NaN  \n",
       "4            NaN  \n",
       "...          ...  \n",
       "525595       NaN  \n",
       "525596       NaN  \n",
       "525597       NaN  \n",
       "525598       NaN  \n",
       "525599       NaN  \n",
       "\n",
       "[525600 rows x 19 columns]>"
      ]
     },
     "execution_count": 4,
     "metadata": {},
     "output_type": "execute_result"
    }
   ],
   "source": [
    "data_frame.head\n"
   ]
  },
  {
   "cell_type": "markdown",
   "metadata": {},
   "source": [
    "Displays the data types of the columns"
   ]
  },
  {
   "cell_type": "code",
   "execution_count": 5,
   "metadata": {},
   "outputs": [
    {
     "data": {
      "text/plain": [
       "Timestamp         object\n",
       "GHI              float64\n",
       "DNI              float64\n",
       "DHI              float64\n",
       "ModA             float64\n",
       "ModB             float64\n",
       "Tamb             float64\n",
       "RH               float64\n",
       "WS               float64\n",
       "WSgust           float64\n",
       "WSstdev          float64\n",
       "WD               float64\n",
       "WDstdev          float64\n",
       "BP                 int64\n",
       "Cleaning           int64\n",
       "Precipitation    float64\n",
       "TModA            float64\n",
       "TModB            float64\n",
       "Comments         float64\n",
       "dtype: object"
      ]
     },
     "execution_count": 5,
     "metadata": {},
     "output_type": "execute_result"
    }
   ],
   "source": [
    "data_frame.dtypes"
   ]
  },
  {
   "cell_type": "markdown",
   "metadata": {},
   "source": [
    "Listing  all column names."
   ]
  },
  {
   "cell_type": "code",
   "execution_count": 6,
   "metadata": {},
   "outputs": [
    {
     "data": {
      "text/plain": [
       "Index(['Timestamp', 'GHI', 'DNI', 'DHI', 'ModA', 'ModB', 'Tamb', 'RH', 'WS',\n",
       "       'WSgust', 'WSstdev', 'WD', 'WDstdev', 'BP', 'Cleaning', 'Precipitation',\n",
       "       'TModA', 'TModB', 'Comments'],\n",
       "      dtype='object')"
      ]
     },
     "execution_count": 6,
     "metadata": {},
     "output_type": "execute_result"
    }
   ],
   "source": [
    "data_frame.columns"
   ]
  },
  {
   "cell_type": "markdown",
   "metadata": {},
   "source": [
    "Computes summary statistics for numeric columns"
   ]
  },
  {
   "cell_type": "code",
   "execution_count": 7,
   "metadata": {},
   "outputs": [
    {
     "name": "stdout",
     "output_type": "stream",
     "text": [
      "                 GHI            DNI            DHI           ModA  \\\n",
      "count  525600.000000  525600.000000  525600.000000  525600.000000   \n",
      "mean      230.555040     151.258469     116.444352     226.144375   \n",
      "std       322.532347     250.956962     156.520714     317.346938   \n",
      "min       -12.700000       0.000000       0.000000       0.000000   \n",
      "25%        -2.200000       0.000000       0.000000       0.000000   \n",
      "50%         2.100000       0.000000       2.500000       4.400000   \n",
      "75%       442.400000     246.400000     215.700000     422.525000   \n",
      "max      1424.000000    1004.500000     805.700000    1380.000000   \n",
      "\n",
      "                ModB           Tamb             RH             WS  \\\n",
      "count  525600.000000  525600.000000  525600.000000  525600.000000   \n",
      "mean      219.568588      27.751788      55.013160       2.368093   \n",
      "std       307.932510       4.758023      28.778732       1.462668   \n",
      "min         0.000000      14.900000       3.300000       0.000000   \n",
      "25%         0.000000      24.200000      26.500000       1.400000   \n",
      "50%         4.300000      27.200000      59.300000       2.200000   \n",
      "75%       411.000000      31.100000      80.800000       3.200000   \n",
      "max      1367.000000      41.400000      99.800000      16.100000   \n",
      "\n",
      "              WSgust        WSstdev             WD        WDstdev  \\\n",
      "count  525600.000000  525600.000000  525600.000000  525600.000000   \n",
      "mean        3.229490       0.557740     161.741845      10.559568   \n",
      "std         1.882565       0.268923      91.877217       5.915490   \n",
      "min         0.000000       0.000000       0.000000       0.000000   \n",
      "25%         1.900000       0.400000      74.800000       6.900000   \n",
      "50%         2.900000       0.500000     199.100000      10.800000   \n",
      "75%         4.400000       0.700000     233.500000      14.100000   \n",
      "max        23.100000       4.700000     360.000000      86.900000   \n",
      "\n",
      "                  BP       Cleaning  Precipitation          TModA  \\\n",
      "count  525600.000000  525600.000000  525600.000000  525600.000000   \n",
      "mean      975.915242       0.000535       0.001382      32.444403   \n",
      "std         2.153977       0.023116       0.026350      10.998334   \n",
      "min       968.000000       0.000000       0.000000      13.100000   \n",
      "25%       975.000000       0.000000       0.000000      23.900000   \n",
      "50%       976.000000       0.000000       0.000000      28.400000   \n",
      "75%       977.000000       0.000000       0.000000      40.600000   \n",
      "max       983.000000       1.000000       2.300000      70.400000   \n",
      "\n",
      "               TModB  Comments  \n",
      "count  525600.000000       0.0  \n",
      "mean       33.543330       NaN  \n",
      "std        12.769277       NaN  \n",
      "min        13.100000       NaN  \n",
      "25%        23.600000       NaN  \n",
      "50%        28.400000       NaN  \n",
      "75%        43.000000       NaN  \n",
      "max        94.600000       NaN  \n"
     ]
    }
   ],
   "source": [
    "summary_stats = data_frame.describe()  # Summary of all numeric columns\n",
    "print(summary_stats)"
   ]
  },
  {
   "cell_type": "markdown",
   "metadata": {},
   "source": [
    "Filters numeric data columns."
   ]
  },
  {
   "cell_type": "code",
   "execution_count": 8,
   "metadata": {},
   "outputs": [
    {
     "name": "stdout",
     "output_type": "stream",
     "text": [
      "Median Values:\n",
      " GHI                2.1\n",
      "DNI                0.0\n",
      "DHI                2.5\n",
      "ModA               4.4\n",
      "ModB               4.3\n",
      "Tamb              27.2\n",
      "RH                59.3\n",
      "WS                 2.2\n",
      "WSgust             2.9\n",
      "WSstdev            0.5\n",
      "WD               199.1\n",
      "WDstdev           10.8\n",
      "BP               976.0\n",
      "Cleaning           0.0\n",
      "Precipitation      0.0\n",
      "TModA             28.4\n",
      "TModB             28.4\n",
      "Comments           NaN\n",
      "dtype: float64\n"
     ]
    }
   ],
   "source": [
    "# Select only numeric columns\n",
    "numeric_data = data_frame.select_dtypes(include=['number'])\n",
    "\n",
    "# Calculate median\n",
    "median_values = numeric_data.median()\n",
    "print(\"Median Values:\\n\", median_values)"
   ]
  },
  {
   "cell_type": "markdown",
   "metadata": {},
   "source": [
    "Selects specific columns for further analysis"
   ]
  },
  {
   "cell_type": "code",
   "execution_count": 9,
   "metadata": {},
   "outputs": [],
   "source": [
    "df = data_frame[['Timestamp', 'GHI', 'DNI', 'DHI',\n",
    "            'ModA', 'ModB', \n",
    "            'Tamb', 'RH', 'WS', 'WSgust', 'WSstdev','Cleaning','WD',\n",
    "            #'WDstdev', 'BP', 'Comments',\n",
    "            'Precipitation','TModA', 'TModB',]].copy()"
   ]
  },
  {
   "cell_type": "markdown",
   "metadata": {},
   "source": [
    "Displays selected column names."
   ]
  },
  {
   "cell_type": "code",
   "execution_count": 10,
   "metadata": {},
   "outputs": [
    {
     "data": {
      "text/plain": [
       "Index(['Timestamp', 'GHI', 'DNI', 'DHI', 'ModA', 'ModB', 'Tamb', 'RH', 'WS',\n",
       "       'WSgust', 'WSstdev', 'Cleaning', 'WD', 'Precipitation', 'TModA',\n",
       "       'TModB'],\n",
       "      dtype='object')"
      ]
     },
     "execution_count": 10,
     "metadata": {},
     "output_type": "execute_result"
    }
   ],
   "source": [
    "df.columns"
   ]
  },
  {
   "cell_type": "markdown",
   "metadata": {},
   "source": [
    "Converts the Timestamp column to datetime format."
   ]
  },
  {
   "cell_type": "code",
   "execution_count": 11,
   "metadata": {},
   "outputs": [],
   "source": [
    "df['Timestamp'] = pd.to_datetime(df['Timestamp'])"
   ]
  },
  {
   "cell_type": "markdown",
   "metadata": {},
   "source": [
    "Prints dataset information (info()), including data types and missing values."
   ]
  },
  {
   "cell_type": "code",
   "execution_count": 12,
   "metadata": {},
   "outputs": [
    {
     "name": "stdout",
     "output_type": "stream",
     "text": [
      "<class 'pandas.core.frame.DataFrame'>\n",
      "RangeIndex: 525600 entries, 0 to 525599\n",
      "Data columns (total 19 columns):\n",
      " #   Column         Non-Null Count   Dtype  \n",
      "---  ------         --------------   -----  \n",
      " 0   Timestamp      525600 non-null  object \n",
      " 1   GHI            525600 non-null  float64\n",
      " 2   DNI            525600 non-null  float64\n",
      " 3   DHI            525600 non-null  float64\n",
      " 4   ModA           525600 non-null  float64\n",
      " 5   ModB           525600 non-null  float64\n",
      " 6   Tamb           525600 non-null  float64\n",
      " 7   RH             525600 non-null  float64\n",
      " 8   WS             525600 non-null  float64\n",
      " 9   WSgust         525600 non-null  float64\n",
      " 10  WSstdev        525600 non-null  float64\n",
      " 11  WD             525600 non-null  float64\n",
      " 12  WDstdev        525600 non-null  float64\n",
      " 13  BP             525600 non-null  int64  \n",
      " 14  Cleaning       525600 non-null  int64  \n",
      " 15  Precipitation  525600 non-null  float64\n",
      " 16  TModA          525600 non-null  float64\n",
      " 17  TModB          525600 non-null  float64\n",
      " 18  Comments       0 non-null       float64\n",
      "dtypes: float64(16), int64(2), object(1)\n",
      "memory usage: 76.2+ MB\n",
      "None\n"
     ]
    }
   ],
   "source": [
    "print(data_frame.info())"
   ]
  },
  {
   "cell_type": "markdown",
   "metadata": {},
   "source": [
    "Identifies duplicated rows in the dataframe."
   ]
  },
  {
   "cell_type": "code",
   "execution_count": 13,
   "metadata": {},
   "outputs": [
    {
     "data": {
      "text/html": [
       "<div>\n",
       "<style scoped>\n",
       "    .dataframe tbody tr th:only-of-type {\n",
       "        vertical-align: middle;\n",
       "    }\n",
       "\n",
       "    .dataframe tbody tr th {\n",
       "        vertical-align: top;\n",
       "    }\n",
       "\n",
       "    .dataframe thead th {\n",
       "        text-align: right;\n",
       "    }\n",
       "</style>\n",
       "<table border=\"1\" class=\"dataframe\">\n",
       "  <thead>\n",
       "    <tr style=\"text-align: right;\">\n",
       "      <th></th>\n",
       "      <th>Timestamp</th>\n",
       "      <th>GHI</th>\n",
       "      <th>DNI</th>\n",
       "      <th>DHI</th>\n",
       "      <th>ModA</th>\n",
       "      <th>ModB</th>\n",
       "      <th>Tamb</th>\n",
       "      <th>RH</th>\n",
       "      <th>WS</th>\n",
       "      <th>WSgust</th>\n",
       "      <th>WSstdev</th>\n",
       "      <th>Cleaning</th>\n",
       "      <th>WD</th>\n",
       "      <th>Precipitation</th>\n",
       "      <th>TModA</th>\n",
       "      <th>TModB</th>\n",
       "    </tr>\n",
       "  </thead>\n",
       "  <tbody>\n",
       "  </tbody>\n",
       "</table>\n",
       "</div>"
      ],
      "text/plain": [
       "Empty DataFrame\n",
       "Columns: [Timestamp, GHI, DNI, DHI, ModA, ModB, Tamb, RH, WS, WSgust, WSstdev, Cleaning, WD, Precipitation, TModA, TModB]\n",
       "Index: []"
      ]
     },
     "execution_count": 13,
     "metadata": {},
     "output_type": "execute_result"
    }
   ],
   "source": [
    "df.loc[df.duplicated()]"
   ]
  },
  {
   "cell_type": "markdown",
   "metadata": {},
   "source": [
    "Displays a detailed summary of the dataset using describe()."
   ]
  },
  {
   "cell_type": "code",
   "execution_count": 14,
   "metadata": {},
   "outputs": [
    {
     "data": {
      "text/html": [
       "<div>\n",
       "<style scoped>\n",
       "    .dataframe tbody tr th:only-of-type {\n",
       "        vertical-align: middle;\n",
       "    }\n",
       "\n",
       "    .dataframe tbody tr th {\n",
       "        vertical-align: top;\n",
       "    }\n",
       "\n",
       "    .dataframe thead th {\n",
       "        text-align: right;\n",
       "    }\n",
       "</style>\n",
       "<table border=\"1\" class=\"dataframe\">\n",
       "  <thead>\n",
       "    <tr style=\"text-align: right;\">\n",
       "      <th></th>\n",
       "      <th>Timestamp</th>\n",
       "      <th>GHI</th>\n",
       "      <th>DNI</th>\n",
       "      <th>DHI</th>\n",
       "      <th>ModA</th>\n",
       "      <th>ModB</th>\n",
       "      <th>Tamb</th>\n",
       "      <th>RH</th>\n",
       "      <th>WS</th>\n",
       "      <th>WSgust</th>\n",
       "      <th>WSstdev</th>\n",
       "      <th>Cleaning</th>\n",
       "      <th>WD</th>\n",
       "      <th>Precipitation</th>\n",
       "      <th>TModA</th>\n",
       "      <th>TModB</th>\n",
       "    </tr>\n",
       "  </thead>\n",
       "  <tbody>\n",
       "    <tr>\n",
       "      <th>count</th>\n",
       "      <td>525600</td>\n",
       "      <td>525600.000000</td>\n",
       "      <td>525600.000000</td>\n",
       "      <td>525600.000000</td>\n",
       "      <td>525600.000000</td>\n",
       "      <td>525600.000000</td>\n",
       "      <td>525600.000000</td>\n",
       "      <td>525600.000000</td>\n",
       "      <td>525600.000000</td>\n",
       "      <td>525600.000000</td>\n",
       "      <td>525600.000000</td>\n",
       "      <td>525600.000000</td>\n",
       "      <td>525600.000000</td>\n",
       "      <td>525600.000000</td>\n",
       "      <td>525600.000000</td>\n",
       "      <td>525600.000000</td>\n",
       "    </tr>\n",
       "    <tr>\n",
       "      <th>mean</th>\n",
       "      <td>2022-04-25 12:00:30.000000768</td>\n",
       "      <td>230.555040</td>\n",
       "      <td>151.258469</td>\n",
       "      <td>116.444352</td>\n",
       "      <td>226.144375</td>\n",
       "      <td>219.568588</td>\n",
       "      <td>27.751788</td>\n",
       "      <td>55.013160</td>\n",
       "      <td>2.368093</td>\n",
       "      <td>3.229490</td>\n",
       "      <td>0.557740</td>\n",
       "      <td>0.000535</td>\n",
       "      <td>161.741845</td>\n",
       "      <td>0.001382</td>\n",
       "      <td>32.444403</td>\n",
       "      <td>33.543330</td>\n",
       "    </tr>\n",
       "    <tr>\n",
       "      <th>min</th>\n",
       "      <td>2021-10-25 00:01:00</td>\n",
       "      <td>-12.700000</td>\n",
       "      <td>0.000000</td>\n",
       "      <td>0.000000</td>\n",
       "      <td>0.000000</td>\n",
       "      <td>0.000000</td>\n",
       "      <td>14.900000</td>\n",
       "      <td>3.300000</td>\n",
       "      <td>0.000000</td>\n",
       "      <td>0.000000</td>\n",
       "      <td>0.000000</td>\n",
       "      <td>0.000000</td>\n",
       "      <td>0.000000</td>\n",
       "      <td>0.000000</td>\n",
       "      <td>13.100000</td>\n",
       "      <td>13.100000</td>\n",
       "    </tr>\n",
       "    <tr>\n",
       "      <th>25%</th>\n",
       "      <td>2022-01-24 06:00:45</td>\n",
       "      <td>-2.200000</td>\n",
       "      <td>0.000000</td>\n",
       "      <td>0.000000</td>\n",
       "      <td>0.000000</td>\n",
       "      <td>0.000000</td>\n",
       "      <td>24.200000</td>\n",
       "      <td>26.500000</td>\n",
       "      <td>1.400000</td>\n",
       "      <td>1.900000</td>\n",
       "      <td>0.400000</td>\n",
       "      <td>0.000000</td>\n",
       "      <td>74.800000</td>\n",
       "      <td>0.000000</td>\n",
       "      <td>23.900000</td>\n",
       "      <td>23.600000</td>\n",
       "    </tr>\n",
       "    <tr>\n",
       "      <th>50%</th>\n",
       "      <td>2022-04-25 12:00:30</td>\n",
       "      <td>2.100000</td>\n",
       "      <td>0.000000</td>\n",
       "      <td>2.500000</td>\n",
       "      <td>4.400000</td>\n",
       "      <td>4.300000</td>\n",
       "      <td>27.200000</td>\n",
       "      <td>59.300000</td>\n",
       "      <td>2.200000</td>\n",
       "      <td>2.900000</td>\n",
       "      <td>0.500000</td>\n",
       "      <td>0.000000</td>\n",
       "      <td>199.100000</td>\n",
       "      <td>0.000000</td>\n",
       "      <td>28.400000</td>\n",
       "      <td>28.400000</td>\n",
       "    </tr>\n",
       "    <tr>\n",
       "      <th>75%</th>\n",
       "      <td>2022-07-25 18:00:15</td>\n",
       "      <td>442.400000</td>\n",
       "      <td>246.400000</td>\n",
       "      <td>215.700000</td>\n",
       "      <td>422.525000</td>\n",
       "      <td>411.000000</td>\n",
       "      <td>31.100000</td>\n",
       "      <td>80.800000</td>\n",
       "      <td>3.200000</td>\n",
       "      <td>4.400000</td>\n",
       "      <td>0.700000</td>\n",
       "      <td>0.000000</td>\n",
       "      <td>233.500000</td>\n",
       "      <td>0.000000</td>\n",
       "      <td>40.600000</td>\n",
       "      <td>43.000000</td>\n",
       "    </tr>\n",
       "    <tr>\n",
       "      <th>max</th>\n",
       "      <td>2022-10-25 00:00:00</td>\n",
       "      <td>1424.000000</td>\n",
       "      <td>1004.500000</td>\n",
       "      <td>805.700000</td>\n",
       "      <td>1380.000000</td>\n",
       "      <td>1367.000000</td>\n",
       "      <td>41.400000</td>\n",
       "      <td>99.800000</td>\n",
       "      <td>16.100000</td>\n",
       "      <td>23.100000</td>\n",
       "      <td>4.700000</td>\n",
       "      <td>1.000000</td>\n",
       "      <td>360.000000</td>\n",
       "      <td>2.300000</td>\n",
       "      <td>70.400000</td>\n",
       "      <td>94.600000</td>\n",
       "    </tr>\n",
       "    <tr>\n",
       "      <th>std</th>\n",
       "      <td>NaN</td>\n",
       "      <td>322.532347</td>\n",
       "      <td>250.956962</td>\n",
       "      <td>156.520714</td>\n",
       "      <td>317.346938</td>\n",
       "      <td>307.932510</td>\n",
       "      <td>4.758023</td>\n",
       "      <td>28.778732</td>\n",
       "      <td>1.462668</td>\n",
       "      <td>1.882565</td>\n",
       "      <td>0.268923</td>\n",
       "      <td>0.023116</td>\n",
       "      <td>91.877217</td>\n",
       "      <td>0.026350</td>\n",
       "      <td>10.998334</td>\n",
       "      <td>12.769277</td>\n",
       "    </tr>\n",
       "  </tbody>\n",
       "</table>\n",
       "</div>"
      ],
      "text/plain": [
       "                           Timestamp            GHI            DNI  \\\n",
       "count                         525600  525600.000000  525600.000000   \n",
       "mean   2022-04-25 12:00:30.000000768     230.555040     151.258469   \n",
       "min              2021-10-25 00:01:00     -12.700000       0.000000   \n",
       "25%              2022-01-24 06:00:45      -2.200000       0.000000   \n",
       "50%              2022-04-25 12:00:30       2.100000       0.000000   \n",
       "75%              2022-07-25 18:00:15     442.400000     246.400000   \n",
       "max              2022-10-25 00:00:00    1424.000000    1004.500000   \n",
       "std                              NaN     322.532347     250.956962   \n",
       "\n",
       "                 DHI           ModA           ModB           Tamb  \\\n",
       "count  525600.000000  525600.000000  525600.000000  525600.000000   \n",
       "mean      116.444352     226.144375     219.568588      27.751788   \n",
       "min         0.000000       0.000000       0.000000      14.900000   \n",
       "25%         0.000000       0.000000       0.000000      24.200000   \n",
       "50%         2.500000       4.400000       4.300000      27.200000   \n",
       "75%       215.700000     422.525000     411.000000      31.100000   \n",
       "max       805.700000    1380.000000    1367.000000      41.400000   \n",
       "std       156.520714     317.346938     307.932510       4.758023   \n",
       "\n",
       "                  RH             WS         WSgust        WSstdev  \\\n",
       "count  525600.000000  525600.000000  525600.000000  525600.000000   \n",
       "mean       55.013160       2.368093       3.229490       0.557740   \n",
       "min         3.300000       0.000000       0.000000       0.000000   \n",
       "25%        26.500000       1.400000       1.900000       0.400000   \n",
       "50%        59.300000       2.200000       2.900000       0.500000   \n",
       "75%        80.800000       3.200000       4.400000       0.700000   \n",
       "max        99.800000      16.100000      23.100000       4.700000   \n",
       "std        28.778732       1.462668       1.882565       0.268923   \n",
       "\n",
       "            Cleaning             WD  Precipitation          TModA  \\\n",
       "count  525600.000000  525600.000000  525600.000000  525600.000000   \n",
       "mean        0.000535     161.741845       0.001382      32.444403   \n",
       "min         0.000000       0.000000       0.000000      13.100000   \n",
       "25%         0.000000      74.800000       0.000000      23.900000   \n",
       "50%         0.000000     199.100000       0.000000      28.400000   \n",
       "75%         0.000000     233.500000       0.000000      40.600000   \n",
       "max         1.000000     360.000000       2.300000      70.400000   \n",
       "std         0.023116      91.877217       0.026350      10.998334   \n",
       "\n",
       "               TModB  \n",
       "count  525600.000000  \n",
       "mean       33.543330  \n",
       "min        13.100000  \n",
       "25%        23.600000  \n",
       "50%        28.400000  \n",
       "75%        43.000000  \n",
       "max        94.600000  \n",
       "std        12.769277  "
      ]
     },
     "execution_count": 14,
     "metadata": {},
     "output_type": "execute_result"
    }
   ],
   "source": [
    "df.describe()"
   ]
  },
  {
   "cell_type": "markdown",
   "metadata": {},
   "source": [
    "Calculates z-scores for specific columns and identifies potential outliers.\n"
   ]
  },
  {
   "cell_type": "code",
   "execution_count": 15,
   "metadata": {},
   "outputs": [
    {
     "name": "stdout",
     "output_type": "stream",
     "text": [
      "Outliers:\n",
      " GHI        305\n",
      "DNI       1062\n",
      "DHI       3415\n",
      "ModA       137\n",
      "ModB       206\n",
      "WS        3510\n",
      "WSgust    3915\n",
      "dtype: int64\n"
     ]
    }
   ],
   "source": [
    "from scipy.stats import zscore\n",
    "\n",
    "# Calculate Z-scores for GHI, DNI, DHI\n",
    "z_scores = data_frame[['GHI', 'DNI', 'DHI', 'ModA', 'ModB', 'WS', 'WSgust']].apply(zscore)\n",
    "outliers = (z_scores.abs() > 3).sum()  # Count outliers\n",
    "print(\"Outliers:\\n\", outliers)"
   ]
  },
  {
   "cell_type": "markdown",
   "metadata": {},
   "source": [
    "Checks for invalid entries in GHI, DNI, and DHI columns where values are less than zero"
   ]
  },
  {
   "cell_type": "code",
   "execution_count": 16,
   "metadata": {},
   "outputs": [
    {
     "name": "stdout",
     "output_type": "stream",
     "text": [
      "Invalid Entries:\n",
      "                Timestamp  GHI  DNI  DHI  ModA  ModB  Tamb    RH   WS  WSgust  \\\n",
      "0       2021-10-25 00:01 -1.3  0.0  0.0   0.0   0.0  24.8  94.5  0.9     1.1   \n",
      "1       2021-10-25 00:02 -1.3  0.0  0.0   0.0   0.0  24.8  94.4  1.1     1.6   \n",
      "2       2021-10-25 00:03 -1.3  0.0  0.0   0.0   0.0  24.8  94.4  1.2     1.4   \n",
      "3       2021-10-25 00:04 -1.2  0.0  0.0   0.0   0.0  24.8  94.3  1.2     1.6   \n",
      "4       2021-10-25 00:05 -1.2  0.0  0.0   0.0   0.0  24.8  94.0  1.3     1.6   \n",
      "...                  ...  ...  ...  ...   ...   ...   ...   ...  ...     ...   \n",
      "525595  2022-10-24 23:56 -0.8  0.0  0.0   0.0   0.0  25.2  53.8  0.0     0.0   \n",
      "525596  2022-10-24 23:57 -0.9  0.0  0.0   0.0   0.0  25.3  53.5  0.0     0.0   \n",
      "525597  2022-10-24 23:58 -1.0  0.0  0.0   0.0   0.0  25.3  53.4  0.0     0.0   \n",
      "525598  2022-10-24 23:59 -1.1  0.0  0.0   0.0   0.0  25.4  53.5  0.0     0.0   \n",
      "525599  2022-10-25 00:00 -1.2  0.0  0.0   0.0   0.0  25.4  52.3  0.0     0.0   \n",
      "\n",
      "        WSstdev     WD  WDstdev   BP  Cleaning  Precipitation  TModA  TModB  \\\n",
      "0           0.4  227.6      1.1  977         0            0.0   24.7   24.4   \n",
      "1           0.4  229.3      0.7  977         0            0.0   24.7   24.4   \n",
      "2           0.3  228.5      2.9  977         0            0.0   24.7   24.4   \n",
      "3           0.3  229.1      4.6  977         0            0.0   24.7   24.4   \n",
      "4           0.4  227.5      1.6  977         0            0.0   24.7   24.4   \n",
      "...         ...    ...      ...  ...       ...            ...    ...    ...   \n",
      "525595      0.0    0.0      0.0  977         0            0.0   24.3   24.0   \n",
      "525596      0.0    0.0      0.0  977         0            0.0   24.3   24.0   \n",
      "525597      0.0    0.0      0.0  977         0            0.0   24.2   23.9   \n",
      "525598      0.0    0.0      0.0  977         0            0.0   24.1   23.8   \n",
      "525599      0.0    0.0      0.0  977         0            0.0   24.1   23.8   \n",
      "\n",
      "        Comments  \n",
      "0            NaN  \n",
      "1            NaN  \n",
      "2            NaN  \n",
      "3            NaN  \n",
      "4            NaN  \n",
      "...          ...  \n",
      "525595       NaN  \n",
      "525596       NaN  \n",
      "525597       NaN  \n",
      "525598       NaN  \n",
      "525599       NaN  \n",
      "\n",
      "[257385 rows x 19 columns]\n"
     ]
    }
   ],
   "source": [
    "invalid_entries = data_frame[(data_frame['GHI'] < 0) | (data_frame['DNI'] < 0) | (data_frame['DHI'] < 0)]\n",
    "print(\"Invalid Entries:\\n\", invalid_entries)"
   ]
  },
  {
   "cell_type": "markdown",
   "metadata": {},
   "source": []
  }
 ],
 "metadata": {
  "kernelspec": {
   "display_name": ".venev",
   "language": "python",
   "name": "python3"
  },
  "language_info": {
   "codemirror_mode": {
    "name": "ipython",
    "version": 3
   },
   "file_extension": ".py",
   "mimetype": "text/x-python",
   "name": "python",
   "nbconvert_exporter": "python",
   "pygments_lexer": "ipython3",
   "version": "3.13.1"
  }
 },
 "nbformat": 4,
 "nbformat_minor": 2
}
